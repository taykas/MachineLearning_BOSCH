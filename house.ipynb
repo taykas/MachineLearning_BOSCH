{
 "cells": [
  {
   "cell_type": "code",
   "execution_count": 1,
   "id": "4430dc48",
   "metadata": {},
   "outputs": [],
   "source": [
    "import pandas as pd\n",
    "import numpy as np\n",
    "import matplotlib.pyplot as plt\n",
    "import seaborn as sns\n",
    "import plotly.express as px\n",
    "import sklearn as sk"
   ]
  },
  {
   "cell_type": "code",
   "execution_count": null,
   "id": "618eeb10",
   "metadata": {},
   "outputs": [],
   "source": [
    "base_casa = pd.read_csv('dataBases/house_prices.csv')\n",
    "base_casa"
   ]
  },
  {
   "cell_type": "code",
   "execution_count": 3,
   "id": "a86c311f",
   "metadata": {},
   "outputs": [],
   "source": [
    "base_casa.drop('date', axis=1, inplace=True)"
   ]
  },
  {
   "cell_type": "code",
   "execution_count": null,
   "id": "ff3ff241",
   "metadata": {},
   "outputs": [],
   "source": [
    "base_casa.describe()"
   ]
  }
 ],
 "metadata": {
  "kernelspec": {
   "display_name": "Python 3",
   "language": "python",
   "name": "python3"
  },
  "language_info": {
   "codemirror_mode": {
    "name": "ipython",
    "version": 3
   },
   "file_extension": ".py",
   "mimetype": "text/x-python",
   "name": "python",
   "nbconvert_exporter": "python",
   "pygments_lexer": "ipython3",
   "version": "3.12.1"
  }
 },
 "nbformat": 4,
 "nbformat_minor": 5
}
