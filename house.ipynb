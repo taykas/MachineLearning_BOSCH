{
 "cells": [
  {
   "cell_type": "code",
   "execution_count": 1,
   "id": "4430dc48",
   "metadata": {},
   "outputs": [],
   "source": [
    "import pandas as pd\n",
    "import numpy as np\n",
    "import matplotlib.pyplot as plt\n",
    "import seaborn as sns\n",
    "import plotly.express as px\n",
    "import sklearn as sk"
   ]
  },
  {
   "cell_type": "code",
   "execution_count": null,
   "id": "618eeb10",
   "metadata": {},
   "outputs": [],
   "source": [
    "base_casa = pd.read_csv('dataBases/house_prices.csv')\n",
    "base_casa"
   ]
  },
  {
   "cell_type": "code",
   "execution_count": 3,
   "id": "a86c311f",
   "metadata": {},
   "outputs": [],
   "source": [
    "base_casa.drop('date', axis=1, inplace=True)"
   ]
  },
  {
   "cell_type": "code",
   "execution_count": null,
   "id": "ff3ff241",
   "metadata": {},
   "outputs": [],
   "source": [
    "base_casa.describe()"
   ]
  },
  {
   "cell_type": "code",
   "execution_count": null,
   "id": "324cdec7",
   "metadata": {},
   "outputs": [],
   "source": [
    "base_casa.isnull().sum()"
   ]
  },
  {
   "cell_type": "code",
   "execution_count": null,
   "id": "b7371698",
   "metadata": {},
   "outputs": [],
   "source": [
    "figura = plt.figure(figsize=(20,20))\n",
    "sns.heatmap(base_casa.corr(), cmap='coolwarm', annot=True)"
   ]
  },
  {
   "cell_type": "code",
   "execution_count": null,
   "id": "9694abab",
   "metadata": {},
   "outputs": [],
   "source": [
    "colunas = ['bedrooms', 'bathrooms', 'price', 'grade']\n",
    "\n",
    "plt.figure(figsize=(10,10))\n",
    "\n",
    "for i, coluna in enumerate(colunas, 1):\n",
    "    plt.subplot(len(colunas), 1, i)\n",
    "    sns.boxplot(data = base_casa, x = coluna, fliersize=3, linewidth=1)\n",
    "    plt.title(coluna, fontsize=11)\n",
    "    plt.xlabel('')\n",
    "    plt.grid(axis='y', linestyle='--', alpha=0.2)\n",
    "\n",
    "plt.tight_layout()\n"
   ]
  },
  {
   "cell_type": "code",
   "execution_count": 15,
   "id": "6cbe4f17",
   "metadata": {},
   "outputs": [],
   "source": [
    "x_casas = base_casa.iloc[:, 2:18].values"
   ]
  },
  {
   "cell_type": "code",
   "execution_count": 16,
   "id": "029cccf9",
   "metadata": {},
   "outputs": [],
   "source": [
    "y_casas = base_casa.iloc[:, 1].values"
   ]
  },
  {
   "cell_type": "code",
   "execution_count": 17,
   "id": "d879f439",
   "metadata": {},
   "outputs": [],
   "source": [
    "from sklearn.model_selection import train_test_split\n",
    "x_casas_treinamento, x_casas_teste, y_casas_treinamento, y_casas_teste = train_test_split(x_casas, y_casas, test_size=0.3, random_state=0)"
   ]
  }
 ],
 "metadata": {
  "kernelspec": {
   "display_name": "Python 3",
   "language": "python",
   "name": "python3"
  },
  "language_info": {
   "codemirror_mode": {
    "name": "ipython",
    "version": 3
   },
   "file_extension": ".py",
   "mimetype": "text/x-python",
   "name": "python",
   "nbconvert_exporter": "python",
   "pygments_lexer": "ipython3",
   "version": "3.12.1"
  }
 },
 "nbformat": 4,
 "nbformat_minor": 5
}
