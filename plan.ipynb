{
 "cells": [
  {
   "cell_type": "code",
   "execution_count": null,
   "id": "a5d45208",
   "metadata": {},
   "outputs": [],
   "source": [
    "import pandas as pd\n",
    "import numpy as np\n",
    "import matplotlib.pyplot as plt\n",
    "import seaborn as sns\n",
    "import plotly.express as px\n",
    "import sklearn as sk"
   ]
  },
  {
   "cell_type": "code",
   "execution_count": null,
   "id": "65d1ee0b",
   "metadata": {},
   "outputs": [],
   "source": [
    "base_planos = pd.read_csv('dataBases/plano_saude.csv')\n",
    "base_planos"
   ]
  },
  {
   "cell_type": "code",
   "execution_count": 97,
   "id": "eaa2aa3f",
   "metadata": {},
   "outputs": [],
   "source": [
    "# Calculo de regressao linear manual\n",
    "\n",
    "def PrevisaoRegressaoLinear(x, y, v):\n",
    "    y = np.array(y)\n",
    "    x = np.array(x)\n",
    "\n",
    "    cov_xy = np.corrcoef(x, y)[0,1]\n",
    "    inclinacao = cov_xy*(np.std(y) / np.std(x))\n",
    "    interseccao = np.mean(y) - inclinacao * np.mean(x)\n",
    "    previsao = interseccao + inclinacao * v\n",
    "    return float(previsao)"
   ]
  },
  {
   "cell_type": "code",
   "execution_count": null,
   "id": "d394cd35",
   "metadata": {},
   "outputs": [],
   "source": [
    "x = base_planos['idade']\n",
    "y = base_planos['custo']\n",
    "\n",
    "lr = PrevisaoRegressaoLinear(x, y, 54)\n",
    "lr"
   ]
  },
  {
   "cell_type": "code",
   "execution_count": null,
   "id": "a332634a",
   "metadata": {},
   "outputs": [],
   "source": [
    "np.corrcoef(y, x)"
   ]
  },
  {
   "cell_type": "code",
   "execution_count": 100,
   "id": "4593dd87",
   "metadata": {},
   "outputs": [],
   "source": [
    "plt.figure(figsize=(10,5))\n",
    "sns.heatmap(base_planos.corr(), annot=True, cmap='coolwarm', fmt=\".4f\")\n",
    "plt.title(\"test\")\n",
    "plt.show()"
   ]
  },
  {
   "cell_type": "code",
   "execution_count": null,
   "id": "cb142d83",
   "metadata": {},
   "outputs": [],
   "source": [
    "x = x.values.reshape(-1,1)\n",
    "x.shape"
   ]
  },
  {
   "cell_type": "code",
   "execution_count": 102,
   "id": "ce306e01",
   "metadata": {},
   "outputs": [],
   "source": [
    "from sklearn.linear_model import LinearRegression\n",
    "regressor_plano_saude = LinearRegression()\n",
    "regressor_plano_saude.fit(x, y)\n",
    "# função fit é feita para treinar o algoritmo com os dados reais, com seus paramentros\n",
    "# = true, pornto de interceccao\n",
    "# copy = True, esta salvando os valores de x, para nao se perder durante o treinamento\n",
    "# n_jobs, diz quantos núcleos irá ser usado\n",
    "# posivite - retorna valores nao negativos\n",
    "# existem dados de treino e dados de teste\n"
   ]
  },
  {
   "cell_type": "code",
   "execution_count": null,
   "id": "5d688f24",
   "metadata": {},
   "outputs": [],
   "source": [
    "regressor_plano_saude.intercept_"
   ]
  },
  {
   "cell_type": "code",
   "execution_count": null,
   "id": "09c4240e",
   "metadata": {},
   "outputs": [],
   "source": [
    "regressor_plano_saude.coef_"
   ]
  },
  {
   "cell_type": "code",
   "execution_count": null,
   "id": "24ecdf28",
   "metadata": {},
   "outputs": [],
   "source": [
    "previsoes = regressor_plano_saude.predict(x)\n",
    "previsoes"
   ]
  },
  {
   "cell_type": "code",
   "execution_count": null,
   "id": "8c15fe61",
   "metadata": {},
   "outputs": [],
   "source": [
    "grafico = px.scatter(x = x.ravel(), y = y)\n",
    "grafico.add_scatter(x = x.ravel(), y = previsoes, name = 'Regressão')"
   ]
  },
  {
   "cell_type": "code",
   "execution_count": null,
   "id": "a4a110cb",
   "metadata": {},
   "outputs": [],
   "source": [
    "previsao_54 = regressor_plano_saude.predict([[54]])\n",
    "print(f\"A regressao para 54 anos é: {previsao_54[0]:.2f}\")"
   ]
  },
  {
   "cell_type": "code",
   "execution_count": null,
   "id": "5f5d571c",
   "metadata": {},
   "outputs": [],
   "source": [
    "regressor_plano_saude.score(x.reshape(-1,1), y)"
   ]
  }
 ],
 "metadata": {
  "kernelspec": {
   "display_name": "Python 3",
   "language": "python",
   "name": "python3"
  },
  "language_info": {
   "codemirror_mode": {
    "name": "ipython",
    "version": 3
   },
   "file_extension": ".py",
   "mimetype": "text/x-python",
   "name": "python",
   "nbconvert_exporter": "python",
   "pygments_lexer": "ipython3",
   "version": "3.12.1"
  }
 },
 "nbformat": 4,
 "nbformat_minor": 5
}
